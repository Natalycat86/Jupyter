{
  "nbformat": 4,
  "nbformat_minor": 0,
  "metadata": {
    "colab": {
      "provenance": [],
      "authorship_tag": "ABX9TyMqvN3XV12BoG9fOtF+m/R9",
      "include_colab_link": true
    },
    "kernelspec": {
      "name": "python3",
      "display_name": "Python 3"
    },
    "language_info": {
      "name": "python"
    }
  },
  "cells": [
    {
      "cell_type": "markdown",
      "metadata": {
        "id": "view-in-github",
        "colab_type": "text"
      },
      "source": [
        "<a href=\"https://colab.research.google.com/github/Natalycat86/111/blob/main/Untitled5.ipynb\" target=\"_parent\"><img src=\"https://colab.research.google.com/assets/colab-badge.svg\" alt=\"Open In Colab\"/></a>"
      ]
    },
    {
      "cell_type": "markdown",
      "source": [
        "## Задача 1"
      ],
      "metadata": {
        "id": "w_g2IyXwcH8r"
      }
    },
    {
      "cell_type": "markdown",
      "source": [
        "`На складе лежат разные фрукты в разном количестве.\n",
        "Нужно написать функцию, которая на вход принимает любое количество названий фруктов и их количество, а возвращает общее количество фруктов на складе`"
      ],
      "metadata": {
        "id": "9wFuKLh9cMvQ"
      }
    },
    {
      "cell_type": "code",
      "source": [
        "def fruits(**kwargs):\n",
        "  print(kwargs) \n",
        "  TotalFruit = 0\n",
        "  for value in kwargs.values():\n",
        "        TotalFruit += value\n",
        "  return TotalFruit "
      ],
      "metadata": {
        "id": "xANVCXa2cWdk"
      },
      "execution_count": 91,
      "outputs": []
    },
    {
      "cell_type": "code",
      "source": [
        "fruits(banana=5, kiwi=8, oranges=6, apples=12)"
      ],
      "metadata": {
        "colab": {
          "base_uri": "https://localhost:8080/"
        },
        "id": "L7BXmEcidknx",
        "outputId": "228b9ae1-a71b-4ba4-e5ef-87b563ef2ea4"
      },
      "execution_count": 92,
      "outputs": [
        {
          "output_type": "stream",
          "name": "stdout",
          "text": [
            "{'banana': 5, 'kiwi': 8, 'oranges': 6, 'apples': 12}\n"
          ]
        },
        {
          "output_type": "execute_result",
          "data": {
            "text/plain": [
              "31"
            ]
          },
          "metadata": {},
          "execution_count": 92
        }
      ]
    },
    {
      "cell_type": "markdown",
      "source": [
        "## Задача 2"
      ],
      "metadata": {
        "id": "WeMm2CQm44TA"
      }
    },
    {
      "cell_type": "markdown",
      "source": [
        "`Дан список с затратами на рекламу. Но в данных есть ошибки, некоторые затраты имеют отрицательную величину. Удалите такие значения из списка и посчитайте суммарные затраты\n",
        "[100, 125, -90, 345, 655, -1, 0, 200]\n",
        "Используйте list comprehensions`"
      ],
      "metadata": {
        "id": "O04Z8SWp49L6"
      }
    },
    {
      "cell_type": "code",
      "source": [
        "expensesAdvert = [100, 125, -90, 345, 655, -1, 0, 200]\n",
        "costs = [value for value in expensesAdvert if value > 0]\n",
        "print(costs)\n",
        "sum(costs)\n"
      ],
      "metadata": {
        "colab": {
          "base_uri": "https://localhost:8080/"
        },
        "id": "HLN-3Ztj5Bq0",
        "outputId": "e804bfca-bb8b-4541-8cd3-d9e6f393a278"
      },
      "execution_count": 119,
      "outputs": [
        {
          "output_type": "stream",
          "name": "stdout",
          "text": [
            "[100, 125, 345, 655, 200]\n"
          ]
        },
        {
          "output_type": "execute_result",
          "data": {
            "text/plain": [
              "1425"
            ]
          },
          "metadata": {},
          "execution_count": 119
        }
      ]
    },
    {
      "cell_type": "markdown",
      "source": [
        "## Задача 3\n",
        "### Подзадача 3.1"
      ],
      "metadata": {
        "id": "17ugrhz3_uF0"
      }
    },
    {
      "cell_type": "markdown",
      "source": [
        "`Даны два списка.\n",
        "Дата покупки\n",
        "['2021-09-14', '2021-12-15', '2021-09-08', '2021-12-05', '2021-10-09', '2021-09-30', '2021-12-22', '2021-11-29', '2021-12-24', '2021-11-26', '2021-10-27', '2021-12-18', '2021-11-09', '2021-11-23', '2021-09-27', '2021-10-02', '2021-12-27', '2021-09-20', '2021-12-13', '2021-11-01', '2021-11-09', '2021-12-06', '2021-12-08', '2021-10-09', '2021-10-31', '2021-09-30', '2021-11-09', '2021-12-13', '2021-10-26', '2021-12-09']\n",
        "Суммы покупок по датам\n",
        "[1270, 8413, 9028, 3703, 5739, 4095, 295, 4944, 5723, 3701, 4471, 651, 7037, 4274, 6275, 4988, 6930, 2971, 6592, 2004, 2822, 519, 3406, 2732, 5015, 2008, 316, 6333, 5700, 2887]\n",
        "Найдите, какая выручка у компании в ноябре\n",
        "Используйте list comprehensions`"
      ],
      "metadata": {
        "id": "flJ1faD4_2Q4"
      }
    },
    {
      "cell_type": "code",
      "source": [
        "listOfDate = ['2021-09-14', '2021-12-15', '2021-09-08', '2021-12-05', '2021-10-09', '2021-09-30', '2021-12-22', '2021-11-29', '2021-12-24', '2021-11-26', '2021-10-27', '2021-12-18', '2021-11-09', '2021-11-23', '2021-09-27', '2021-10-02', '2021-12-27', '2021-09-20', '2021-12-13', '2021-11-01', '2021-11-09', '2021-12-06', '2021-12-08', '2021-10-09', '2021-10-31', '2021-09-30', '2021-11-09', '2021-12-13', '2021-10-26', '2021-12-09']\n",
        "listOfMoney = [1270, 8413, 9028, 3703, 5739, 4095, 295, 4944, 5723, 3701, 4471, 651, 7037, 4274, 6275, 4988, 6930, 2971, 6592, 2004, 2822, 519, 3406, 2732, 5015, 2008, 316, 6333, 5700, 2887]\n",
        "Total = [listOfMoney[i] for i in range(len(listOfDate)) if listOfDate[i][5:7] == '11']\n",
        "sum(Total)"
      ],
      "metadata": {
        "colab": {
          "base_uri": "https://localhost:8080/"
        },
        "id": "Pl5VXLfCABhr",
        "outputId": "2531f05d-0570-45b3-d90f-2a2d596b4338"
      },
      "execution_count": 126,
      "outputs": [
        {
          "output_type": "execute_result",
          "data": {
            "text/plain": [
              "25098"
            ]
          },
          "metadata": {},
          "execution_count": 126
        }
      ]
    },
    {
      "cell_type": "markdown",
      "source": [
        "### Подзадача 3.2"
      ],
      "metadata": {
        "id": "gkuqydRfBeZ7"
      }
    },
    {
      "cell_type": "markdown",
      "source": [
        "`Найдите выручку компании в зависимости от месяца\n",
        "Для этого напишите функцию, которая на вход принимает список с датами и список с выручкой, а на выходе словарь, где ключи - это месяцы, а значения - это выручка. Используйте аннотирование типов`"
      ],
      "metadata": {
        "id": "67Ankm7PBjXP"
      }
    },
    {
      "cell_type": "code",
      "source": [
        "def monthlyRevenue(listOfDate:list[str],listOfMoney:list[str]) -> dict:\n",
        "  month=['09', '10', '11', '12']\n",
        "  for i in range(len(month)):\n",
        "        for j in range(len(listOfDate)):\n",
        "            if month[i][0] == listOfDate[j][5:7]:\n",
        "                listOfDate[j] = month[i][1]\n",
        "  revenue_dict = dict()\n",
        "  for i, value in enumerate(listOfMoney):\n",
        "        revenue_dict[listOfDate[i]] = revenue_dict.get(listOfDate[i], 0) + value\n",
        "  return revenue_dict\n",
        " \n",
        "monthlyRevenue(listOfDate, listOfMoney)\n",
        "\n"
      ],
      "metadata": {
        "colab": {
          "base_uri": "https://localhost:8080/"
        },
        "id": "KA1hb3WDBpGB",
        "outputId": "f1d08e33-3d22-4e62-8251-1404652a580b"
      },
      "execution_count": 129,
      "outputs": [
        {
          "output_type": "execute_result",
          "data": {
            "text/plain": [
              "{'2021-09-14': 1270,\n",
              " '2021-12-15': 8413,\n",
              " '2021-09-08': 9028,\n",
              " '2021-12-05': 3703,\n",
              " '2021-10-09': 8471,\n",
              " '2021-09-30': 6103,\n",
              " '2021-12-22': 295,\n",
              " '2021-11-29': 4944,\n",
              " '2021-12-24': 5723,\n",
              " '2021-11-26': 3701,\n",
              " '2021-10-27': 4471,\n",
              " '2021-12-18': 651,\n",
              " '2021-11-09': 10175,\n",
              " '2021-11-23': 4274,\n",
              " '2021-09-27': 6275,\n",
              " '2021-10-02': 4988,\n",
              " '2021-12-27': 6930,\n",
              " '2021-09-20': 2971,\n",
              " '2021-12-13': 12925,\n",
              " '2021-11-01': 2004,\n",
              " '2021-12-06': 519,\n",
              " '2021-12-08': 3406,\n",
              " '2021-10-31': 5015,\n",
              " '2021-10-26': 5700,\n",
              " '2021-12-09': 2887}"
            ]
          },
          "metadata": {},
          "execution_count": 129
        }
      ]
    }
  ]
}